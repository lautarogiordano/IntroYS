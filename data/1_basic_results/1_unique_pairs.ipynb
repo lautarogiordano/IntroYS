{
 "cells": [
  {
   "cell_type": "code",
   "execution_count": null,
   "metadata": {},
   "outputs": [],
   "source": [
    "import numpy as np\n",
    "\n",
    "def unique_pairs(n):\n",
    "    # Create an array of indices\n",
    "    idx = np.arange(n)\n",
    "    # Randomly shuffle the indices\n",
    "    np.random.shuffle(idx)\n",
    "    # Split the shuffled indices into pairs\n",
    "    return np.array_split(idx, n // 2)\n",
    "\n",
    "m = 3\n",
    "n = 2 * m\n",
    "w = np.random.rand(n)\n",
    "\n",
    "pairs = unique_pairs(n)\n",
    "print(pairs)"
   ]
  }
 ],
 "metadata": {
  "language_info": {
   "name": "python"
  },
  "orig_nbformat": 4
 },
 "nbformat": 4,
 "nbformat_minor": 2
}
