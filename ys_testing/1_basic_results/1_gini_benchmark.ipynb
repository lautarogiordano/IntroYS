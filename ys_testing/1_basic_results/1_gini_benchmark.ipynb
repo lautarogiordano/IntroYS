{
 "cells": [
  {
   "attachments": {},
   "cell_type": "markdown",
   "metadata": {},
   "source": [
    "Voy a probar que algoritmo es mejor para calcular el Gini"
   ]
  },
  {
   "cell_type": "code",
   "execution_count": 1,
   "metadata": {},
   "outputs": [],
   "source": [
    "import numpy as np"
   ]
  },
  {
   "cell_type": "code",
   "execution_count": 6,
   "metadata": {},
   "outputs": [
    {
     "data": {
      "text/plain": [
       "(0.12160339648105611,\n",
       " 0.12160339648105611,\n",
       " 0.12160339648105611,\n",
       " 0.12160339648105589)"
      ]
     },
     "execution_count": 6,
     "metadata": {},
     "output_type": "execute_result"
    }
   ],
   "source": [
    "def fun1(w):\n",
    "    # nxn matrix with a[i,j] = np.abs(w[i]-w[j])\n",
    "    a = np.abs(w[:, None] - w)\n",
    "    return np.sum(a)/(2*len(w))\n",
    "\n",
    "def fun2(w):\n",
    "    \"\"\"Computes gini index of a vector w\n",
    "    \"\"\"\n",
    "    total = 0\n",
    "    for i, wi in enumerate(w[:-1], 1):\n",
    "        total += np.sum(np.abs(wi - w[i:]))\n",
    "    return total / (len(w)**2 * np.mean(w))\n",
    "\n",
    "def fun3(w):\n",
    "    total = 0\n",
    "    for i in range(len(w)):\n",
    "        total += np.sum(np.abs(w - w[i]))\n",
    "    return total / (2*len(w))\n",
    "\n",
    "def fun_gpt(w):\n",
    "    N = len(w)\n",
    "    w = np.sort(w)\n",
    "    p_cumsum = np.cumsum(w) / np.sum(w)\n",
    "    B = np.sum(p_cumsum) / N\n",
    "    return 1 + 1 / N - 2 * B\n",
    "\n",
    "    \n",
    "n=3\n",
    "w = np.random.rand(n)\n",
    "w /= np.sum(w)\n",
    "\n",
    "fun1(w), fun2(w), fun3(w), fun_gpt(w)"
   ]
  },
  {
   "cell_type": "code",
   "execution_count": 7,
   "metadata": {},
   "outputs": [
    {
     "name": "stdout",
     "output_type": "stream",
     "text": [
      "\n",
      "--------\n",
      "n =  100 \n",
      "--------\n",
      "27.6 µs ± 597 ns per loop (mean ± std. dev. of 7 runs, 10000 loops each)\n",
      "725 µs ± 30.6 µs per loop (mean ± std. dev. of 7 runs, 1000 loops each)\n",
      "683 µs ± 24.8 µs per loop (mean ± std. dev. of 7 runs, 1000 loops each)\n",
      "18.9 µs ± 167 ns per loop (mean ± std. dev. of 7 runs, 100000 loops each)\n",
      "\n",
      "--------\n",
      "n =  1000 \n",
      "--------\n",
      "7.49 ms ± 465 µs per loop (mean ± std. dev. of 7 runs, 100 loops each)\n",
      "11.5 ms ± 1.54 ms per loop (mean ± std. dev. of 7 runs, 100 loops each)\n",
      "10 ms ± 1.17 ms per loop (mean ± std. dev. of 7 runs, 100 loops each)\n",
      "56.9 µs ± 1.43 µs per loop (mean ± std. dev. of 7 runs, 10000 loops each)\n",
      "\n",
      "--------\n",
      "n =  5000 \n",
      "--------\n",
      "281 ms ± 69.4 ms per loop (mean ± std. dev. of 7 runs, 1 loop each)\n",
      "57.4 ms ± 2.75 ms per loop (mean ± std. dev. of 7 runs, 10 loops each)\n",
      "65.3 ms ± 684 µs per loop (mean ± std. dev. of 7 runs, 10 loops each)\n",
      "331 µs ± 9.48 µs per loop (mean ± std. dev. of 7 runs, 1000 loops each)\n",
      "\n",
      "--------\n",
      "n =  10000 \n",
      "--------\n",
      "628 ms ± 175 ms per loop (mean ± std. dev. of 7 runs, 1 loop each)\n",
      "142 ms ± 13.5 ms per loop (mean ± std. dev. of 7 runs, 10 loops each)\n",
      "179 ms ± 2.83 ms per loop (mean ± std. dev. of 7 runs, 10 loops each)\n",
      "657 µs ± 5.5 µs per loop (mean ± std. dev. of 7 runs, 1000 loops each)\n",
      "\n",
      "--------\n",
      "n =  15000 \n",
      "--------\n",
      "1.24 s ± 369 ms per loop (mean ± std. dev. of 7 runs, 1 loop each)\n",
      "226 ms ± 3.14 ms per loop (mean ± std. dev. of 7 runs, 1 loop each)\n",
      "342 ms ± 6.56 ms per loop (mean ± std. dev. of 7 runs, 1 loop each)\n",
      "1.02 ms ± 13.1 µs per loop (mean ± std. dev. of 7 runs, 1000 loops each)\n"
     ]
    }
   ],
   "source": [
    "# time fun1, fun2 and fun3 for various values of n\n",
    "sizes = [100, 1000, 5000, 10000, 15000]\n",
    "\n",
    "for n in sizes:\n",
    "    w = np.random.rand(n)\n",
    "    w /= np.sum(w)\n",
    "    print('\\n--------\\nn = ', n, '\\n--------')\n",
    "    %timeit fun1(w),\n",
    "    %timeit fun2(w),\n",
    "    %timeit fun3(w),\n",
    "    %timeit fun_gpt(w),"
   ]
  }
 ],
 "metadata": {
  "kernelspec": {
   "display_name": "base",
   "language": "python",
   "name": "python3"
  },
  "language_info": {
   "codemirror_mode": {
    "name": "ipython",
    "version": 3
   },
   "file_extension": ".py",
   "mimetype": "text/x-python",
   "name": "python",
   "nbconvert_exporter": "python",
   "pygments_lexer": "ipython3",
   "version": "3.9.13"
  },
  "orig_nbformat": 4,
  "vscode": {
   "interpreter": {
    "hash": "3159170d9fcce935f4a2f5b40d38978387b4f643b035d22b78e982df0db07ec7"
   }
  }
 },
 "nbformat": 4,
 "nbformat_minor": 2
}
