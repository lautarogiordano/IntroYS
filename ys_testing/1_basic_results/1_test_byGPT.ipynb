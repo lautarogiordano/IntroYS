{
 "cells": [
  {
   "attachments": {},
   "cell_type": "markdown",
   "metadata": {},
   "source": [
    "The code you provided can be optimized in several ways. Here, I propose several improvements:\n",
    "\n",
    "    Use NumPy vectorized operations instead of loops where possible.\n",
    "    Precompute the cumulative sum of wealth to speed up the Gini calculation.\n",
    "    Remove unnecessary function calls and inline the logic.\n",
    "\n",
    "Here's the optimized version of the code:"
   ]
  },
  {
   "attachments": {},
   "cell_type": "markdown",
   "metadata": {},
   "source": [
    "Bueno, no funciona porque quiso vectorizar las transacciones pero esto puede\\\n",
    "generar errores, ya que en MCS un agente puede tener más de una transacción\\\n",
    "pero puede quedar sin riqueza antes de completarlas todas. Igual mejoró la función\\\n",
    "get_gini . is_valid."
   ]
  },
  {
   "cell_type": "code",
   "execution_count": 1,
   "metadata": {},
   "outputs": [],
   "source": [
    "import numpy as np\n",
    "import matplotlib.pyplot as plt"
   ]
  },
  {
   "cell_type": "code",
   "execution_count": 2,
   "metadata": {},
   "outputs": [],
   "source": [
    "class FastYSmodel:\n",
    "    def __init__(self, n_agentes, w_min=1e-15, f=0, every=1):\n",
    "        self.N = n_agentes\n",
    "        self.w_min = w_min\n",
    "        self.every = every\n",
    "        self.n = np.random.rand(self.N, 2)\n",
    "        self.n[:, 0] = self.n[:, 0]/(np.sum(self.n[:, 0]))\n",
    "        self.gini = []\n",
    "        self.gini.append(self.get_gini())\n",
    "        self.f = f\n",
    "\n",
    "    def get_opponents(self):\n",
    "        random_array = np.random.randint(0, self.N, self.N)\n",
    "        self.indices = np.arange(0, self.N)\n",
    "        random_array = np.where(random_array == self.indices, \n",
    "                                (random_array + 1) % self.N, \n",
    "                                random_array)\n",
    "        return random_array\n",
    "\n",
    "    def is_valid(self, i, j):\n",
    "        valid = (self.n[i, 0] > self.w_min) & (self.n[j, 0] > self.w_min)\n",
    "        self.n[i, 0] = np.where(self.n[i, 0] < self.w_min, 0, self.n[i, 0])\n",
    "        self.n[j, 0] = np.where(self.n[j, 0] < self.w_min, 0, self.n[j, 0])\n",
    "        return valid\n",
    "\n",
    "    def get_dw(self, i, j):\n",
    "        return np.minimum(self.n[i,0]*self.n[i,1], self.n[j,0]*self.n[j,1])\n",
    "\n",
    "    def get_gini(self):\n",
    "        w = np.sort(self.n[:, 0])[::-1]\n",
    "        p_cumsum = np.cumsum(w) / np.sum(w)\n",
    "        B = np.sum(p_cumsum) / self.N\n",
    "        return 1 + 1 / self.N - 2 * B\n",
    "\n",
    "    def update_wealth(self, i, j, dw):\n",
    "        self.n[i, 0] += dw\n",
    "        self.n[j, 0] -= dw\n",
    "\n",
    "    def choose_winner(self, i, j):\n",
    "        p = .5 + self.f*((self.n[j,0] - self.n[i,0])/\n",
    "                         (self.n[i,0] + self.n[j,0]))\n",
    "        winner = np.random.choice([i, j], p=[p, 1-p])\n",
    "        return winner\n",
    "\n",
    "    def MCS(self, steps):\n",
    "        for mcs in range(steps):\n",
    "            j = self.get_opponents()\n",
    "\n",
    "            valid = self.is_valid(self.indices, j)\n",
    "            dw = self.get_dw(self.indices, j)\n",
    "            winner = self.choose_winner(self.indices, j)\n",
    "            dw = np.where(winner == self.indices, dw, -dw)\n",
    "            self.update_wealth(self.indices, j, dw)\n",
    "\n",
    "            if ((mcs + 1) % 10 == 0):\n",
    "                self.gini.append(self.get_gini())\n"
   ]
  },
  {
   "cell_type": "code",
   "execution_count": 3,
   "metadata": {},
   "outputs": [
    {
     "ename": "ValueError",
     "evalue": "a must be 1-dimensional",
     "output_type": "error",
     "traceback": [
      "\u001b[0;31m---------------------------------------------------------------------------\u001b[0m",
      "\u001b[0;31mValueError\u001b[0m                                Traceback (most recent call last)",
      "\u001b[0;32m/tmp/ipykernel_10307/3893571518.py\u001b[0m in \u001b[0;36m<module>\u001b[0;34m\u001b[0m\n\u001b[1;32m      1\u001b[0m \u001b[0mmodel\u001b[0m \u001b[0;34m=\u001b[0m \u001b[0mFastYSmodel\u001b[0m\u001b[0;34m(\u001b[0m\u001b[0;36m1000\u001b[0m\u001b[0;34m,\u001b[0m \u001b[0mw_min\u001b[0m\u001b[0;34m=\u001b[0m\u001b[0;36m1e-14\u001b[0m\u001b[0;34m,\u001b[0m \u001b[0mf\u001b[0m\u001b[0;34m=\u001b[0m\u001b[0;36m.1\u001b[0m\u001b[0;34m,\u001b[0m \u001b[0mevery\u001b[0m\u001b[0;34m=\u001b[0m\u001b[0;36m10\u001b[0m\u001b[0;34m)\u001b[0m\u001b[0;34m\u001b[0m\u001b[0;34m\u001b[0m\u001b[0m\n\u001b[0;32m----> 2\u001b[0;31m \u001b[0mmodel\u001b[0m\u001b[0;34m.\u001b[0m\u001b[0mMCS\u001b[0m\u001b[0;34m(\u001b[0m\u001b[0;36m1000\u001b[0m\u001b[0;34m)\u001b[0m\u001b[0;34m\u001b[0m\u001b[0;34m\u001b[0m\u001b[0m\n\u001b[0m",
      "\u001b[0;32m/tmp/ipykernel_10307/2470100090.py\u001b[0m in \u001b[0;36mMCS\u001b[0;34m(self, steps)\u001b[0m\n\u001b[1;32m     49\u001b[0m             \u001b[0mvalid\u001b[0m \u001b[0;34m=\u001b[0m \u001b[0mself\u001b[0m\u001b[0;34m.\u001b[0m\u001b[0mis_valid\u001b[0m\u001b[0;34m(\u001b[0m\u001b[0mself\u001b[0m\u001b[0;34m.\u001b[0m\u001b[0mindices\u001b[0m\u001b[0;34m,\u001b[0m \u001b[0mj\u001b[0m\u001b[0;34m)\u001b[0m\u001b[0;34m\u001b[0m\u001b[0;34m\u001b[0m\u001b[0m\n\u001b[1;32m     50\u001b[0m             \u001b[0mdw\u001b[0m \u001b[0;34m=\u001b[0m \u001b[0mself\u001b[0m\u001b[0;34m.\u001b[0m\u001b[0mget_dw\u001b[0m\u001b[0;34m(\u001b[0m\u001b[0mself\u001b[0m\u001b[0;34m.\u001b[0m\u001b[0mindices\u001b[0m\u001b[0;34m,\u001b[0m \u001b[0mj\u001b[0m\u001b[0;34m)\u001b[0m\u001b[0;34m\u001b[0m\u001b[0;34m\u001b[0m\u001b[0m\n\u001b[0;32m---> 51\u001b[0;31m             \u001b[0mwinner\u001b[0m \u001b[0;34m=\u001b[0m \u001b[0mself\u001b[0m\u001b[0;34m.\u001b[0m\u001b[0mchoose_winner\u001b[0m\u001b[0;34m(\u001b[0m\u001b[0mself\u001b[0m\u001b[0;34m.\u001b[0m\u001b[0mindices\u001b[0m\u001b[0;34m,\u001b[0m \u001b[0mj\u001b[0m\u001b[0;34m)\u001b[0m\u001b[0;34m\u001b[0m\u001b[0;34m\u001b[0m\u001b[0m\n\u001b[0m\u001b[1;32m     52\u001b[0m             \u001b[0mdw\u001b[0m \u001b[0;34m=\u001b[0m \u001b[0mnp\u001b[0m\u001b[0;34m.\u001b[0m\u001b[0mwhere\u001b[0m\u001b[0;34m(\u001b[0m\u001b[0mwinner\u001b[0m \u001b[0;34m==\u001b[0m \u001b[0mself\u001b[0m\u001b[0;34m.\u001b[0m\u001b[0mindices\u001b[0m\u001b[0;34m,\u001b[0m \u001b[0mdw\u001b[0m\u001b[0;34m,\u001b[0m \u001b[0;34m-\u001b[0m\u001b[0mdw\u001b[0m\u001b[0;34m)\u001b[0m\u001b[0;34m\u001b[0m\u001b[0;34m\u001b[0m\u001b[0m\n\u001b[1;32m     53\u001b[0m             \u001b[0mself\u001b[0m\u001b[0;34m.\u001b[0m\u001b[0mupdate_wealth\u001b[0m\u001b[0;34m(\u001b[0m\u001b[0mself\u001b[0m\u001b[0;34m.\u001b[0m\u001b[0mindices\u001b[0m\u001b[0;34m,\u001b[0m \u001b[0mj\u001b[0m\u001b[0;34m,\u001b[0m \u001b[0mdw\u001b[0m\u001b[0;34m)\u001b[0m\u001b[0;34m\u001b[0m\u001b[0;34m\u001b[0m\u001b[0m\n",
      "\u001b[0;32m/tmp/ipykernel_10307/2470100090.py\u001b[0m in \u001b[0;36mchoose_winner\u001b[0;34m(self, i, j)\u001b[0m\n\u001b[1;32m     40\u001b[0m         p = .5 + self.f*((self.n[j,0] - self.n[i,0])/\n\u001b[1;32m     41\u001b[0m                          (self.n[i,0] + self.n[j,0]))\n\u001b[0;32m---> 42\u001b[0;31m         \u001b[0mwinner\u001b[0m \u001b[0;34m=\u001b[0m \u001b[0mnp\u001b[0m\u001b[0;34m.\u001b[0m\u001b[0mrandom\u001b[0m\u001b[0;34m.\u001b[0m\u001b[0mchoice\u001b[0m\u001b[0;34m(\u001b[0m\u001b[0;34m[\u001b[0m\u001b[0mi\u001b[0m\u001b[0;34m,\u001b[0m \u001b[0mj\u001b[0m\u001b[0;34m]\u001b[0m\u001b[0;34m,\u001b[0m \u001b[0mp\u001b[0m\u001b[0;34m=\u001b[0m\u001b[0;34m[\u001b[0m\u001b[0mp\u001b[0m\u001b[0;34m,\u001b[0m \u001b[0;36m1\u001b[0m\u001b[0;34m-\u001b[0m\u001b[0mp\u001b[0m\u001b[0;34m]\u001b[0m\u001b[0;34m)\u001b[0m\u001b[0;34m\u001b[0m\u001b[0;34m\u001b[0m\u001b[0m\n\u001b[0m\u001b[1;32m     43\u001b[0m         \u001b[0;32mreturn\u001b[0m \u001b[0mwinner\u001b[0m\u001b[0;34m\u001b[0m\u001b[0;34m\u001b[0m\u001b[0m\n\u001b[1;32m     44\u001b[0m \u001b[0;34m\u001b[0m\u001b[0m\n",
      "\u001b[0;32mmtrand.pyx\u001b[0m in \u001b[0;36mnumpy.random.mtrand.RandomState.choice\u001b[0;34m()\u001b[0m\n",
      "\u001b[0;31mValueError\u001b[0m: a must be 1-dimensional"
     ]
    }
   ],
   "source": [
    "model = FastYSmodel(1000, w_min=1e-14, f=.1, every=10)\n",
    "model.MCS(1000)"
   ]
  }
 ],
 "metadata": {
  "kernelspec": {
   "display_name": "base",
   "language": "python",
   "name": "python3"
  },
  "language_info": {
   "codemirror_mode": {
    "name": "ipython",
    "version": 3
   },
   "file_extension": ".py",
   "mimetype": "text/x-python",
   "name": "python",
   "nbconvert_exporter": "python",
   "pygments_lexer": "ipython3",
   "version": "3.9.13"
  },
  "orig_nbformat": 4,
  "vscode": {
   "interpreter": {
    "hash": "3159170d9fcce935f4a2f5b40d38978387b4f643b035d22b78e982df0db07ec7"
   }
  }
 },
 "nbformat": 4,
 "nbformat_minor": 2
}
