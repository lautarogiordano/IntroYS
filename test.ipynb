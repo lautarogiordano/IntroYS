{
 "cells": [
  {
   "attachments": {},
   "cell_type": "markdown",
   "metadata": {},
   "source": [
    "# Intro: modelo de Yard-Sale"
   ]
  },
  {
   "cell_type": "code",
   "execution_count": 6,
   "metadata": {},
   "outputs": [],
   "source": [
    "import numpy as np\n",
    "import matplotlib.pyplot as plt\n",
    "import os"
   ]
  },
  {
   "attachments": {},
   "cell_type": "markdown",
   "metadata": {},
   "source": [
    "Lo primero que necesitamos es una clase que guarde el modelo base."
   ]
  },
  {
   "cell_type": "code",
   "execution_count": 7,
   "metadata": {},
   "outputs": [],
   "source": [
    "class model:\n",
    "    def __init__(self, n_agents, w_min=3*1e-15, every=1):\n",
    "        # Basic params of model\n",
    "        self.N = n_agents\n",
    "        self.w_min = w_min\n",
    "        self.every = every\n",
    "        # Initialize n agents with random risks and wealth between (0, 1] \n",
    "        # and normalize wealth\n",
    "        # n[i, 0] is the wealth and n[i, 1] is the risk of agent i\n",
    "        self.n = np.random.rand(self.N, 2)\n",
    "        # Normalize wealth\n",
    "        self.n[:, 0] = self.n[:, 0]/(np.sum(self.n[:, 0]))\n",
    "        self.gini = []\n",
    "        # Compute initial Gini\n",
    "        self.gini.append(self.get_gini())\n",
    "        # Compute initial active agents\n",
    "        self.n_active = [self.get_actives()]\n",
    "\n",
    "    def get_opponents(self):\n",
    "        \"\"\"Snippet that assigns each agent with another random agent for a \n",
    "        pairwise interaction fast and returns an array of opponents\n",
    "        \"\"\"\n",
    "        # Create array of random numbers\n",
    "        random_array = np.random.randint(0, self.N, self.N)\n",
    "        # Create array of indices\n",
    "        indices = np.arange(0, self.N)\n",
    "        # Create array of random numbers that are not equal to the index\n",
    "        # If i=j then assign j'=i+1 (j'=0 if i=N-1)\n",
    "        random_array = np.where(random_array == indices, \n",
    "                                (random_array + 1) % self.N, \n",
    "                                random_array)\n",
    "        return random_array\n",
    "    \n",
    "    def is_valid(self, i, j):\n",
    "        # Check if both agents have w > w_min\n",
    "        valid = (self.n[i, 0] > self.w_min) and (self.n[j, 0] > self.w_min)\n",
    "        # Setting w_i < w_min to w_i = 0 only introduces error in W_tot ~ 1\n",
    "        # Maybe there is no need to do this\n",
    "            # # Set agents with less than w_min to zero\n",
    "            # self.n[i, 0] = np.where(self.n[i, 0] < self.w_min, 0, self.n[i, 0])\n",
    "            # self.n[j, 0] = np.where(self.n[j, 0] < self.w_min, 0, self.n[j, 0])\n",
    "        return valid\n",
    "\n",
    "    def get_dw(self, i, j):\n",
    "        return np.minimum(self.n[i,0]*self.n[i,1], self.n[j,0]*self.n[j,1])\n",
    "\n",
    "    def get_gini(self):\n",
    "        w = np.sort(self.n[:, 0])\n",
    "        p_cumsum = np.cumsum(w) / np.sum(w)\n",
    "        B = np.sum(p_cumsum) / self.N\n",
    "        return 1 + 1/self.N - 2*B\n",
    "    \n",
    "    def get_actives(self):\n",
    "        return np.sum(self.n[:,0]>self.w_min)\n",
    "    \n",
    "    def get_liquidity():\n",
    "        return\n",
    "\n",
    "    def update_wealth(self, i, j, dw):\n",
    "        self.n[i, 0] += dw\n",
    "        self.n[j, 0] -= dw\n",
    "\n",
    "    def choose_winner(self, i, j):\n",
    "        raise Exception('You need to choose a valid model.')\n",
    "\n",
    "    def MCS(self, steps):\n",
    "        \"\"\"\n",
    "        Main MC loop\n",
    "        \"\"\"\n",
    "\n",
    "        for mcs in range(steps):\n",
    "            # Choose random j!=i\n",
    "            j = self.get_opponents()\n",
    "            \n",
    "            for i in range(self.N):\n",
    "                # Check both agents have w > w_min\n",
    "                if self.is_valid(i, j[i]):\n",
    "                    # Compute dw\n",
    "                    dw = self.get_dw(i, j[i])\n",
    "                    # Play the YS game\n",
    "                    winner = self.choose_winner(i, j[i])\n",
    "                    # Change sign of dw if j won\n",
    "                    dw = np.where(winner == i, dw, -dw)\n",
    "                    # Update_wealth\n",
    "                    self.update_wealth(i, j[i], dw)\n",
    "                \n",
    "            # After self.every MCS append new Gini index\n",
    "            if ((mcs + 1) % self.every == 0):\n",
    "                self.gini.append(self.get_gini())\n",
    "                self.n_active.append(self.get_actives())\n",
    "\n"
   ]
  },
  {
   "attachments": {},
   "cell_type": "markdown",
   "metadata": {},
   "source": [
    "Ahora definimos el modelo de Yard-Sale, que hereda del modelo base."
   ]
  },
  {
   "cell_type": "code",
   "execution_count": 8,
   "metadata": {},
   "outputs": [],
   "source": [
    "class YSmodel(model):\n",
    "    def __init__(self, n_agents, w_min=3*1e-15, f=0, every=1):\n",
    "        super().__init__(n_agents, w_min, every)\n",
    "        # f is the social protection factor\n",
    "        self.f = f\n",
    "\n",
    "    def choose_winner(self, i, j):\n",
    "        p = .5 + self.f*((self.n[j,0] - self.n[i,0])/\n",
    "                         (self.n[i,0] + self.n[j,0]))\n",
    "        # Choose winner, agent i has probability i\n",
    "        winner = np.random.choice([i, j], p=[p, 1-p])\n",
    "        return winner"
   ]
  },
  {
   "cell_type": "code",
   "execution_count": 4,
   "metadata": {},
   "outputs": [
    {
     "data": {
      "text/plain": [
       "0.1"
      ]
     },
     "execution_count": 4,
     "metadata": {},
     "output_type": "execute_result"
    }
   ],
   "source": [
    "model = YSmodel(1000, w_min=1e-14, f=.1, every=1)\n",
    "model.f"
   ]
  },
  {
   "cell_type": "code",
   "execution_count": 66,
   "metadata": {},
   "outputs": [],
   "source": [
    "model.MCS(10000)"
   ]
  },
  {
   "cell_type": "code",
   "execution_count": 67,
   "metadata": {},
   "outputs": [
    {
     "data": {
      "image/png": "[encoded data removed]",
      "text/plain": [
       "<Figure size 640x480 with 1 Axes>"
      ]
     },
     "metadata": {},
     "output_type": "display_data"
    }
   ],
   "source": [
    "fig, ax = plt.subplots()\n",
    "\n",
    "ax.plot(model.gini, label='f = {:.2f}'.format(model.f), color='green', linewidth=.5)\n",
    "ax.set_xlabel('MCS', size=15)\n",
    "ax.set_ylabel('Gini', size=15)\n",
    "#ax.set_xticks(np.arange(0, 100000, 10000), minor=True)\n",
    "#ax.set_yticks(np.arange(.35, 1.05, .05), minor=True)\n",
    "ax.legend(loc='lower right')\n",
    "ax.set_title(\"Final gini: {:.3f}\".format(model.gini[-1]))\n",
    "ax.grid(which='minor', alpha=.5, linestyle='--')\n",
    "ax.grid(which='major', alpha=1, linestyle='--')\n",
    "\n",
    "plt.show()"
   ]
  },
  {
   "cell_type": "code",
   "execution_count": 5,
   "metadata": {},
   "outputs": [
    {
     "name": "stdout",
     "output_type": "stream",
     "text": [
      "No. of active agents: 1000\n",
      "Wealth of richest agent: 0.002\n"
     ]
    }
   ],
   "source": [
    "n_act = model.get_actives()\n",
    "w_richest = np.max(model.n[:,0])\n",
    "\n",
    "print(\"No. of active agents: {}\\nWealth of richest agent: {:.3f}\".format(n_act, w_richest))"
   ]
  },
  {
   "attachments": {},
   "cell_type": "markdown",
   "metadata": {},
   "source": [
    "Ahora voy a recolectar datos para distintos f y así reproducir resultados de\n",
    "juli/santi"
   ]
  },
  {
   "cell_type": "code",
   "execution_count": 11,
   "metadata": {},
   "outputs": [],
   "source": [
    "filepath = os.path.join(os.getcwd(), \"data/1_basic_results\")\n",
    "\n",
    "f_set = [0, .05, .1, .2, .3, .4, .5]\n",
    "MCS = int(1e+5)\n",
    "\n",
    "for f in f_set:\n",
    "    model = YSmodel(1000, w_min=3*1e-17, f=f, every=1)\n",
    "    model.MCS(MCS)\n",
    "    \n",
    "    path_gini = os.path.join(filepath, 'f={:.2f}_gini'.format(f))\n",
    "    np.save(path_gini, np.array(model.gini))\n",
    "    \n",
    "    path_agents = os.path.join(filepath, 'f={:.2f}_agents'.format(f))\n",
    "    np.save(path_agents, model.n[:, 0])\n",
    "\n",
    "    path_active = os.path.join(filepath, 'f={:.2f}_active'.format(f))\n",
    "    np.save(path_active, np.array(model.n_active))\n"
   ]
  },
  {
   "cell_type": "code",
   "execution_count": 45,
   "metadata": {},
   "outputs": [],
   "source": [
    "# How to load file\n",
    "path = os.path.join(filepath, 'f={:.2f}_agents.npy'.format(.1))\n",
    "\n",
    "a = np.load(path)\n"
   ]
  }
 ],
 "metadata": {
  "kernelspec": {
   "display_name": "base",
   "language": "python",
   "name": "python3"
  },
  "language_info": {
   "codemirror_mode": {
    "name": "ipython",
    "version": 3
   },
   "file_extension": ".py",
   "mimetype": "text/x-python",
   "name": "python",
   "nbconvert_exporter": "python",
   "pygments_lexer": "ipython3",
   "version": "3.9.13"
  },
  "orig_nbformat": 4,
  "vscode": {
   "interpreter": {
    "hash": "3159170d9fcce935f4a2f5b40d38978387b4f643b035d22b78e982df0db07ec7"
   }
  }
 },
 "nbformat": 4,
 "nbformat_minor": 2
}
