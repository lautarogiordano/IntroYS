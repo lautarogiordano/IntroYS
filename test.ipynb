{
 "cells": [
  {
   "attachments": {},
   "cell_type": "markdown",
   "metadata": {},
   "source": [
    "# Intro: modelo de Yard-Sale"
   ]
  },
  {
   "cell_type": "code",
   "execution_count": 2,
   "metadata": {},
   "outputs": [],
   "source": [
    "import numpy as np\n",
    "import matplotlib.pyplot as plt"
   ]
  },
  {
   "attachments": {},
   "cell_type": "markdown",
   "metadata": {},
   "source": [
    "Lo primero que necesitamos es una clase que guarde el modelo base."
   ]
  },
  {
   "cell_type": "code",
   "execution_count": 12,
   "metadata": {},
   "outputs": [],
   "source": [
    "class model:\n",
    "    def __init__(self, n_agentes):\n",
    "        # Initialize n agents with random (0, 1] wealth and normalize\n",
    "        self.N = n_agentes\n",
    "        self.w = np.random.rand(self.N)\n",
    "        self.w = (self.w)/(np.sum(self.w))\n",
    "\n",
    "    def gini(self):\n",
    "        # Compute gini index\n",
    "        self.gini_idx = 1\n",
    "        \n",
    "        return self.gini_idx\n",
    "    \n",
    "    def update_wealth(self, winner, loser, dw):\n",
    "        self.w[winner] += dw\n",
    "        self.w[loser] -= dw\n",
    "\n"
   ]
  },
  {
   "attachments": {},
   "cell_type": "markdown",
   "metadata": {},
   "source": [
    "Ahora definimos el modelo de Yard-Sale, que hereda del modelo base."
   ]
  },
  {
   "cell_type": "code",
   "execution_count": 17,
   "metadata": {},
   "outputs": [
    {
     "data": {
      "text/plain": [
       "3"
      ]
     },
     "execution_count": 17,
     "metadata": {},
     "output_type": "execute_result"
    }
   ],
   "source": [
    "class YSmodel(model):\n",
    "    def __init__(self, n_agentes, f):\n",
    "        super().__init__(n_agentes)\n",
    "        # f is the social protection factor\n",
    "        self.f = f\n",
    "\n",
    "    def MCS(self, steps):\n",
    "        \"\"\"\n",
    "        Main MC loop\n",
    "        \"\"\"\n",
    "\n",
    "        for i in range(steps):\n",
    "            # For every i:\n",
    "                # Choose random j!=i\n",
    "                # Compute p(i=winner)\n",
    "                # Choose random number -> winner\n",
    "                # update_wealth"
   ]
  }
 ],
 "metadata": {
  "kernelspec": {
   "display_name": "base",
   "language": "python",
   "name": "python3"
  },
  "language_info": {
   "codemirror_mode": {
    "name": "ipython",
    "version": 3
   },
   "file_extension": ".py",
   "mimetype": "text/x-python",
   "name": "python",
   "nbconvert_exporter": "python",
   "pygments_lexer": "ipython3",
   "version": "3.9.13"
  },
  "orig_nbformat": 4,
  "vscode": {
   "interpreter": {
    "hash": "3159170d9fcce935f4a2f5b40d38978387b4f643b035d22b78e982df0db07ec7"
   }
  }
 },
 "nbformat": 4,
 "nbformat_minor": 2
}
