{
 "cells": [
  {
   "attachments": {},
   "cell_type": "markdown",
   "metadata": {},
   "source": [
    "Voy a probar que algoritmo es mejor para calcular el Gini"
   ]
  },
  {
   "cell_type": "code",
   "execution_count": 1,
   "metadata": {},
   "outputs": [],
   "source": [
    "import numpy as np"
   ]
  },
  {
   "cell_type": "code",
   "execution_count": 2,
   "metadata": {},
   "outputs": [
    {
     "data": {
      "text/plain": [
       "(0.4317245371249327, 0.4317245371249327, 0.4317245371249327)"
      ]
     },
     "execution_count": 2,
     "metadata": {},
     "output_type": "execute_result"
    }
   ],
   "source": [
    "def fun1(w):\n",
    "    # nxn matrix with a[i,j] = np.abs(w[i]-w[j])\n",
    "    a = np.abs(w[:, None] - w)\n",
    "    return np.sum(a)/(2*len(w))\n",
    "\n",
    "def fun2(w):\n",
    "    \"\"\"Computes gini index of a vector w\n",
    "    \"\"\"\n",
    "    total = 0\n",
    "    for i, wi in enumerate(w[:-1], 1):\n",
    "        total += np.sum(np.abs(wi - w[i:]))\n",
    "    return total / (len(w)**2 * np.mean(w))\n",
    "\n",
    "def fun3(w):\n",
    "    total = 0\n",
    "    for i in range(len(w)):\n",
    "        total += np.sum(np.abs(w - w[i]))\n",
    "    return total / (2*len(w))\n",
    "\n",
    "    \n",
    "n=3\n",
    "w = np.random.rand(n)\n",
    "w /= np.sum(w)\n",
    "\n",
    "fun1(w), fun2(w), fun3(w)"
   ]
  },
  {
   "cell_type": "code",
   "execution_count": 3,
   "metadata": {},
   "outputs": [
    {
     "name": "stdout",
     "output_type": "stream",
     "text": [
      "\n",
      "--------\n",
      "n =  100 \n",
      "--------\n",
      "28.7 µs ± 584 ns per loop (mean ± std. dev. of 7 runs, 10000 loops each)\n",
      "748 µs ± 17 µs per loop (mean ± std. dev. of 7 runs, 1000 loops each)\n",
      "712 µs ± 25.5 µs per loop (mean ± std. dev. of 7 runs, 1000 loops each)\n",
      "\n",
      "--------\n",
      "n =  1000 \n",
      "--------\n",
      "7.24 ms ± 248 µs per loop (mean ± std. dev. of 7 runs, 100 loops each)\n",
      "10.1 ms ± 697 µs per loop (mean ± std. dev. of 7 runs, 100 loops each)\n",
      "10.5 ms ± 1.96 ms per loop (mean ± std. dev. of 7 runs, 100 loops each)\n",
      "\n",
      "--------\n",
      "n =  5000 \n",
      "--------\n",
      "140 ms ± 8.67 ms per loop (mean ± std. dev. of 7 runs, 10 loops each)\n",
      "55.4 ms ± 2.14 ms per loop (mean ± std. dev. of 7 runs, 10 loops each)\n",
      "67.7 ms ± 2.35 ms per loop (mean ± std. dev. of 7 runs, 10 loops each)\n",
      "\n",
      "--------\n",
      "n =  10000 \n",
      "--------\n",
      "969 ms ± 32.3 ms per loop (mean ± std. dev. of 7 runs, 1 loop each)\n",
      "148 ms ± 14.2 ms per loop (mean ± std. dev. of 7 runs, 10 loops each)\n",
      "219 ms ± 31.7 ms per loop (mean ± std. dev. of 7 runs, 1 loop each)\n",
      "\n",
      "--------\n",
      "n =  15000 \n",
      "--------\n",
      "3.96 s ± 641 ms per loop (mean ± std. dev. of 7 runs, 1 loop each)\n",
      "302 ms ± 39.2 ms per loop (mean ± std. dev. of 7 runs, 1 loop each)\n",
      "407 ms ± 32.2 ms per loop (mean ± std. dev. of 7 runs, 1 loop each)\n"
     ]
    }
   ],
   "source": [
    "# time fun1, fun2 and fun3 for various values of n\n",
    "sizes = [100, 1000, 5000, 10000, 15000]\n",
    "\n",
    "for n in sizes:\n",
    "    w = np.random.rand(n)\n",
    "    w /= np.sum(w)\n",
    "    print('\\n--------\\nn = ', n, '\\n--------')\n",
    "    %timeit fun1(w),\n",
    "    %timeit fun2(w),\n",
    "    %timeit fun3(w)"
   ]
  }
 ],
 "metadata": {
  "kernelspec": {
   "display_name": "base",
   "language": "python",
   "name": "python3"
  },
  "language_info": {
   "codemirror_mode": {
    "name": "ipython",
    "version": 3
   },
   "file_extension": ".py",
   "mimetype": "text/x-python",
   "name": "python",
   "nbconvert_exporter": "python",
   "pygments_lexer": "ipython3",
   "version": "3.9.13"
  },
  "orig_nbformat": 4,
  "vscode": {
   "interpreter": {
    "hash": "3159170d9fcce935f4a2f5b40d38978387b4f643b035d22b78e982df0db07ec7"
   }
  }
 },
 "nbformat": 4,
 "nbformat_minor": 2
}
